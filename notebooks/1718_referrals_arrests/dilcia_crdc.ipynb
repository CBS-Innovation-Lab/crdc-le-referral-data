{
 "cells": [
  {
   "cell_type": "code",
   "execution_count": 8,
   "metadata": {},
   "outputs": [],
   "source": [
    "import os\n",
    "import re\n",
    "import geopandas as gpd\n",
    "import jinja2\n",
    "import numpy as np\n",
    "import pandas as pd\n",
    "from src import constants"
   ]
  },
  {
   "cell_type": "code",
   "execution_count": 9,
   "metadata": {},
   "outputs": [
    {
     "data": {
      "text/plain": [
       "(89161, 139)"
      ]
     },
     "execution_count": 9,
     "metadata": {},
     "output_type": "execute_result"
    }
   ],
   "source": [
    "df = pd.read_csv(\"input/crdc-referrals-arrests-cleaned.csv\", dtype={0: str, 2: str}).query(\"year == 2017\")\n",
    "df.shape\n"
   ]
  },
  {
   "cell_type": "code",
   "execution_count": 10,
   "metadata": {},
   "outputs": [],
   "source": [
    "MAX_GRADE = 5"
   ]
  },
  {
   "cell_type": "code",
   "execution_count": 11,
   "metadata": {},
   "outputs": [],
   "source": [
    "JOIN_ARGS = {\"how\": \"left\"}\n",
    "INDEX_COLS = [\n",
    "    \"COMBOKEY\",\n",
    "    \"SCH_NAME\",\n",
    "    \"LEA_NAME\",\n",
    "    \"JJ\",\n",
    "]\n",
    "RACE_VALUES = {\n",
    "    \"am\": \"American Indian/Alaska Native\",\n",
    "    \"as\": \"Asian\",\n",
    "    \"bl\": \"Black\",\n",
    "    \"wh\": \"White\",\n",
    "    \"hi\": \"Hispanic\",\n",
    "    \"hp\": \"Native Hawaiian/Pacific Islander\",\n",
    "    \"tr\": \"Two or More Races\",\n",
    "}"
   ]
  },
  {
   "cell_type": "code",
   "execution_count": 12,
   "metadata": {},
   "outputs": [],
   "source": [
    "MULT = 10_000"
   ]
  },
  {
   "cell_type": "code",
   "execution_count": null,
   "metadata": {},
   "outputs": [],
   "source": [
    "assign_rates = (\n",
    "    \n",
    ")"
   ]
  }
 ],
 "metadata": {
  "kernelspec": {
   "display_name": "venv",
   "language": "python",
   "name": "python3"
  },
  "language_info": {
   "codemirror_mode": {
    "name": "ipython",
    "version": 3
   },
   "file_extension": ".py",
   "mimetype": "text/x-python",
   "name": "python",
   "nbconvert_exporter": "python",
   "pygments_lexer": "ipython3",
   "version": "3.10.11"
  },
  "orig_nbformat": 4
 },
 "nbformat": 4,
 "nbformat_minor": 2
}
