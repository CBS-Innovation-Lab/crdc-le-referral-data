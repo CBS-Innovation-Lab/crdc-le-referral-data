{
 "cells": [
  {
   "cell_type": "code",
   "execution_count": 3,
   "metadata": {},
   "outputs": [],
   "source": [
    "import re\n",
    "import numpy as np\n",
    "import pandas as pd\n"
   ]
  },
  {
   "cell_type": "code",
   "execution_count": 11,
   "metadata": {},
   "outputs": [],
   "source": [
    "ARR_COLS = [\n",
    "    \"TOT_DISCWODIS_ARR_M\",\n",
    "    \"TOT_DISCWODIS_ARR_F\",\n",
    "    \"TOT_DISCWDIS_ARR_IDEA_M\",\n",
    "    \"TOT_DISCWDIS_ARR_IDEA_F\",\n",
    "]\n",
    "\n",
    "ENR_COLS = [\"TOT_ENR_M\", \"TOT_ENR_F\"]\n",
    "\n",
    "USE_COLS = ARR_COLS + ENR_COLS\n",
    "\n",
    "\n",
    "read_file = (\n",
    "    lambda x: pd.read_csv(x, encoding=\"latin-1\", low_memory=False)\n",
    "    if x.endswith(\".csv\") or x.endswith(\".csv.gz\")\n",
    "    else pd.read_excel(x)\n",
    ")\n",
    "\n",
    "\n",
    "def select_cols(df: pd.DataFrame) -> pd.DataFrame:\n",
    "    \"\"\"selects columns from the dataframe\"\"\"\n",
    "    return df.set_index(\"COMBOKEY\")[USE_COLS]\n",
    "\n",
    "\n",
    "def drop_reserve_codes(df: pd.DataFrame) -> pd.DataFrame:\n",
    "    \"\"\"drops reserve codes from the dataframe\"\"\"\n",
    "    return df.mask(df.lt(0))\n",
    "\n",
    "\n",
    "def preprocess_df(df: pd.DataFrame, year) -> pd.DataFrame:\n",
    "    \"\"\"preprocesses the dataframe\"\"\"\n",
    "    return df.pipe(select_cols).pipe(drop_reserve_codes).assign(year=year)\n",
    "\n",
    "\n",
    "def read_segmented_dfs(*filenames) -> pd.DataFrame:\n",
    "    \"\"\"reads and stacks the dataframes\"\"\"\n",
    "    return preprocess_df(\n",
    "        pd.DataFrame()\n",
    "        .join(\n",
    "            [\n",
    "                read_file(f)\n",
    "                .set_index(\"COMBOKEY\")\n",
    "                .drop(\n",
    "                    [\n",
    "                        \"LEA_STATE\",\n",
    "                        \"LEA_STATE_NAME\",\n",
    "                        \"LEAID\",\n",
    "                        \"LEA_NAME\",\n",
    "                        \"SCHID\",\n",
    "                        \"SCH_NAME\",\n",
    "                        \"JJ\",\n",
    "                    ],\n",
    "                    axis=1,\n",
    "                    errors=\"ignore\"\n",
    "                )\n",
    "                for f in filenames\n",
    "            ],\n",
    "            how=\"outer\",\n",
    "        )\n",
    "        .reset_index(),\n",
    "        get_school_year(filenames[0]),\n",
    "    )\n",
    "\n",
    "\n",
    "def get_school_year(school_year: str) -> int:\n",
    "    \"\"\"gets the year from the school year\"\"\"\n",
    "    school_match = re.search(r\"\\d{4}-\\d{2}\", school_year)\n",
    "    if school_match:\n",
    "        return int(school_match.group()[:4])\n",
    "\n",
    "    school_match = re.search(r\"\\d{4}\", school_year)\n",
    "    if school_match:\n",
    "        return int(\"20\" + school_match.group()[:2])\n",
    "\n",
    "    raise ValueError(f\"couldn't extract school year from {school_year}\")\n",
    "\n",
    "\n",
    "def read_stack_dfs(*filenames) -> pd.DataFrame:\n",
    "    \"\"\"reads and stacks the dataframes\"\"\"\n",
    "    dfs = []\n",
    "    for filename in filenames:\n",
    "\n",
    "        match filename:\n",
    "            case str():\n",
    "                dfs.append(\n",
    "                    preprocess_df(\n",
    "                        read_file(filename),\n",
    "                        get_school_year(filename),\n",
    "                    )\n",
    "                )\n",
    "\n",
    "            case tuple() | list():\n",
    "                dfs.append(read_segmented_dfs(*filename))\n",
    "\n",
    "            case other:\n",
    "                raise ValueError(f\"unknown filename type {type(filename)}\")\n",
    "\n",
    "    return pd.concat(dfs)\n",
    "\n",
    "\n",
    "df = read_stack_dfs(\n",
    "    (\"input/1718-crdc-sch-referrals-arrests.csv\", \"input/1718-crdc-sch-enrollment.csv\"),\n",
    "    \"input/CRDC-2015-16-School-Data.csv.gz\",\n",
    "    (\"input/1314-crdc-sch-referrals-arrests.xlsx\", \"input/1314-crdc-sch-enrollment.xlsx\"),\n",
    ")\n"
   ]
  },
  {
   "cell_type": "code",
   "execution_count": 22,
   "metadata": {},
   "outputs": [
    {
     "data": {
      "text/plain": [
       "<AxesSubplot:title={'center':'Arrests per 1,000 children'}, xlabel='year'>"
      ]
     },
     "execution_count": 22,
     "metadata": {},
     "output_type": "execute_result"
    },
    {
     "data": {
      "image/png": "[encoded data removed]",
      "text/plain": [
       "<Figure size 640x480 with 1 Axes>"
      ]
     },
     "metadata": {},
     "output_type": "display_data"
    }
   ],
   "source": [
    "(\n",
    "    df.assign(\n",
    "        total_arrests=df[ARR_COLS].sum(axis=1),\n",
    "        total_enrollment=df[ENR_COLS].sum(axis=1),\n",
    "    )\n",
    "    .groupby(\"year\")[[\"total_arrests\", \"total_enrollment\"]]\n",
    "    .sum()\n",
    "    .assign(arrest_rate=lambda df: df.total_arrests / df.total_enrollment)\n",
    "    .arrest_rate.multiply(1000).plot(kind=\"bar\", title=\"Arrests per 1,000 children\")\n",
    ")\n"
   ]
  }
 ],
 "metadata": {
  "kernelspec": {
   "display_name": "Python 3.10.4 ('venv': venv)",
   "language": "python",
   "name": "python3"
  },
  "language_info": {
   "codemirror_mode": {
    "name": "ipython",
    "version": 3
   },
   "file_extension": ".py",
   "mimetype": "text/x-python",
   "name": "python",
   "nbconvert_exporter": "python",
   "pygments_lexer": "ipython3",
   "version": "3.10.4"
  },
  "orig_nbformat": 4,
  "vscode": {
   "interpreter": {
    "hash": "0fa5da22c80cc46a356573d901e6910918a74e9dd4d99ab06443280d9aad1a1a"
   }
  }
 },
 "nbformat": 4,
 "nbformat_minor": 2
}
